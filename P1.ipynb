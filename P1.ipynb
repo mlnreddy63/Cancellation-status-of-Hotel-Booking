{
  "nbformat": 4,
  "nbformat_minor": 0,
  "metadata": {
    "colab": {
      "private_outputs": true,
      "provenance": [],
      "authorship_tag": "ABX9TyOdy3f12nZ74e5WK297WxUf",
      "include_colab_link": true
    },
    "kernelspec": {
      "name": "python3",
      "display_name": "Python 3"
    },
    "language_info": {
      "name": "python"
    }
  },
  "cells": [
    {
      "cell_type": "markdown",
      "metadata": {
        "id": "view-in-github",
        "colab_type": "text"
      },
      "source": [
        "<a href=\"https://colab.research.google.com/github/mlnreddy63/Cancellation-status-of-Hotel-Booking/blob/main/P1.ipynb\" target=\"_parent\"><img src=\"https://colab.research.google.com/assets/colab-badge.svg\" alt=\"Open In Colab\"/></a>"
      ]
    },
    {
      "cell_type": "code",
      "execution_count": null,
      "metadata": {
        "id": "Frp_f5Oj3gwo"
      },
      "outputs": [],
      "source": [
        "### Step 1\n",
        "### Import the packages numpy,pandas,matplotlib,seaborn,sklearn,train test split,metrics"
      ]
    },
    {
      "cell_type": "code",
      "source": [
        "### Step 2:Load the Dataset"
      ],
      "metadata": {
        "id": "kC1E3X4d4Iob"
      },
      "execution_count": null,
      "outputs": []
    },
    {
      "cell_type": "code",
      "source": [
        "### Step 3:Explore the data-shape,visualisation"
      ],
      "metadata": {
        "id": "wApBz9mg4NJ7"
      },
      "execution_count": null,
      "outputs": []
    },
    {
      "cell_type": "code",
      "source": [
        "### Step 4:X,y-->train data test data->Fit the model with training data  predict with the test data"
      ],
      "metadata": {
        "id": "yh02Mas14ZSU"
      },
      "execution_count": null,
      "outputs": []
    },
    {
      "cell_type": "code",
      "source": [
        "#Basic and most important libraries\n",
        "import pandas as pd \n",
        "import numpy as np\n",
        "import matplotlib.pyplot as plt\n",
        "import seaborn as sns\n",
        "\n",
        "\n",
        "#Classifiers\n",
        "from sklearn.ensemble import AdaBoostClassifier , GradientBoostingClassifier,RandomForestClassifier\n",
        "from sklearn.linear_model import LogisticRegression\n",
        "from sklearn.neighbors import KNeighborsClassifier\n",
        "from sklearn.tree import DecisionTreeClassifier \n",
        "\n",
        "#Model evaluation tools\n",
        "from sklearn.metrics import classification_report , accuracy_score , confusion_matrix\n",
        "from sklearn.metrics import f1_score\n",
        "from sklearn.model_selection import cross_val_score\n",
        "\n",
        "#Data processing functions\n",
        "\n",
        "from sklearn.model_selection import train_test_split\n",
        "from sklearn.preprocessing import LabelEncoder\n",
        "le = LabelEncoder()\n",
        "\n",
        "import warnings\n",
        "warnings.filterwarnings(\"ignore\")"
      ],
      "metadata": {
        "id": "3fAaFwBs4ld4"
      },
      "execution_count": null,
      "outputs": []
    },
    {
      "cell_type": "code",
      "source": [
        "data = pd.read_csv(\"https://raw.githubusercontent.com/Premalatha-success/Datasets/main/hotel_bookings.csv\")\n",
        "data"
      ],
      "metadata": {
        "id": "BMzGZOk65ImA"
      },
      "execution_count": null,
      "outputs": []
    },
    {
      "cell_type": "code",
      "source": [
        "data.shape"
      ],
      "metadata": {
        "id": "-Ot1CsVw594G"
      },
      "execution_count": null,
      "outputs": []
    },
    {
      "cell_type": "code",
      "source": [
        "data.dtypes"
      ],
      "metadata": {
        "id": "SexpR_s_6Ci6"
      },
      "execution_count": null,
      "outputs": []
    },
    {
      "cell_type": "code",
      "source": [
        "sns.countplot(x=\"previous_cancellations\",hue=\"is_canceled\",data=data)"
      ],
      "metadata": {
        "id": "-RhCmZq66fVw"
      },
      "execution_count": null,
      "outputs": []
    },
    {
      "cell_type": "code",
      "source": [
        "sns.countplot(x=\"customer_type\",hue=\"is_canceled\",data=data)"
      ],
      "metadata": {
        "id": "KDGfApnN78I0"
      },
      "execution_count": null,
      "outputs": []
    },
    {
      "cell_type": "code",
      "source": [
        "correlation_mat = data.corr()\n",
        "correlation_mat"
      ],
      "metadata": {
        "id": "JhWNXm5t7_Hq"
      },
      "execution_count": null,
      "outputs": []
    },
    {
      "cell_type": "code",
      "source": [
        "correlation_mat = data.corr()"
      ],
      "metadata": {
        "id": "AuSoPr5jVF7L"
      },
      "execution_count": null,
      "outputs": []
    },
    {
      "cell_type": "code",
      "source": [
        "sns.heatmap(correlation_mat,annot=True,linewidths=.8,cmap=\"YlGnBu\")"
      ],
      "metadata": {
        "id": "cNVYzQYm8Q9c"
      },
      "execution_count": null,
      "outputs": []
    },
    {
      "cell_type": "code",
      "source": [
        "sns.pairplot(data)\n",
        "plt.show()"
      ],
      "metadata": {
        "id": "FHCVS02S8v3C"
      },
      "execution_count": null,
      "outputs": []
    },
    {
      "cell_type": "code",
      "source": [
        "data.describe()"
      ],
      "metadata": {
        "id": "MKz6x_Pk9lcg"
      },
      "execution_count": null,
      "outputs": []
    },
    {
      "cell_type": "code",
      "source": [
        "data.info()"
      ],
      "metadata": {
        "id": "nxD3fVSPWlAv"
      },
      "execution_count": null,
      "outputs": []
    },
    {
      "cell_type": "code",
      "source": [
        "data.isnull().sum()"
      ],
      "metadata": {
        "id": "72klvbRhWsMZ"
      },
      "execution_count": null,
      "outputs": []
    },
    {
      "cell_type": "code",
      "source": [
        "plt.figure(figsize=(10,6))\n",
        "sns.heatmap(data.isnull(),yticklabels=False)"
      ],
      "metadata": {
        "id": "fGfmuvOSW3lS"
      },
      "execution_count": null,
      "outputs": []
    },
    {
      "cell_type": "code",
      "source": [
        "print(data[\"hotel\"].value_counts())\n",
        "print(data[\"arrival_date_month\"].value_counts())\n",
        "print(data[\"meal\"].value_counts())\n",
        "print(data[\"country\"].value_counts())\n",
        "print(data[\"market_segment\"].value_counts())\n",
        "print(data[\"distribution_channel\"].value_counts())\n",
        "print(data[\"reserved_room_type\"].value_counts())\n",
        "print(data[\"assigned_room_type\"].value_counts())\n",
        "print(data[\"deposit_type\"].value_counts())\n",
        "print(data[\"customer_type\"].value_counts())\n",
        "print(data[\"reservation_status_date\"].value_counts())"
      ],
      "metadata": {
        "id": "717K0ubfXI6o"
      },
      "execution_count": null,
      "outputs": []
    },
    {
      "cell_type": "code",
      "source": [
        "data[\"hotel\"].fillna(data[\"hotel\"].mode()[0],inplace=True)\n",
        "data[\"arrival_date_month\"].fillna(data[\"arrival_date_month\"].mode()[0],inplace=True)\n",
        "data[\"meal\"].fillna(data[\"meal\"].mode()[0],inplace=True)\n",
        "data[\"country\"].fillna(data[\"country\"].mode()[0],inplace=True)\n",
        "data[\"market_segment\"].fillna(data[\"market_segment\"].mode()[0],inplace=True)\n",
        "data[\"distribution_channel\"].fillna(data[\"distribution_channel\"].mode()[0],inplace=True)\n",
        "data[\"reserved_room_type\"].fillna(data[\"reserved_room_type\"].mode()[0],inplace=True)\n",
        "data[\"assigned_room_type\"].fillna(data[\"assigned_room_type\"].mode()[0],inplace=True)\n",
        "data[\"deposit_type\"].fillna(data[\"deposit_type\"].mode()[0],inplace=True)\n",
        "data[\"customer_type\"].fillna(data[\"customer_type\"].mode()[0],inplace=True)\n",
        "data[\"reservation_status_date\"].fillna(data[\"reservation_status_date\"].mode()[0],inplace=True)\n",
        "data[\"agent\"].fillna(data[\"agent\"].median(),inplace=True)\n",
        "data[\"company\"].fillna(data[\"company\"].median(),inplace=True)\n",
        "print(data.isnull().sum())\n",
        "\n",
        "#Heat map for null values\n",
        "plt.figure(figsize=(13,8))\n",
        "sns.heatmap(data.isnull())"
      ],
      "metadata": {
        "id": "OAbe8AVuXML3"
      },
      "execution_count": null,
      "outputs": []
    },
    {
      "cell_type": "code",
      "source": [
        "data[\"hotel\"] = le.fit_transform(data[\"hotel\"])\n",
        "data[\"arrival_date_month\"] = le.fit_transform(data[\"arrival_date_month\"])\n",
        "data[\"meal\"] = le.fit_transform(data[\"meal\"])\n",
        "data[\"country\"] = le.fit_transform(data[\"country\"])\n",
        "data[\"market_segment\"] = le.fit_transform(data[\"market_segment\"])\n",
        "data[\"distribution_channel\"] = le.fit_transform(data[\"distribution_channel\"])\n",
        "data[\"reserved_room_type\"] = le.fit_transform(data[\"reserved_room_type\"])\n",
        "data[\"assigned_room_type\"] = le.fit_transform(data[\"assigned_room_type\"])\n",
        "data[\"deposit_type\"] = le.fit_transform(data[\"deposit_type\"])\n",
        "data[\"customer_type\"] = le.fit_transform(data[\"customer_type\"])\n",
        "data[\"reservation_status\"] = le.fit_transform(data[\"reservation_status\"])\n",
        "data[\"reservation_status_date\"] = le.fit_transform(data[\"reservation_status_date\"])\n",
        "data[\"children\"].fillna(data[\"children\"].median(),inplace=True)\n",
        "data[\"country\"].fillna(data[\"country\"].mode()[0],inplace=True)\n",
        "data[\"agent\"].fillna(data[\"agent\"].median(),inplace=True)\n",
        "data[\"company\"].fillna(data[\"company\"].median(),inplace=True)\n",
        "\n",
        "#data = pd.get_dummies(data)\n",
        "data.head(8)"
      ],
      "metadata": {
        "id": "VnVS_bvRXyYz"
      },
      "execution_count": null,
      "outputs": []
    },
    {
      "cell_type": "code",
      "source": [
        "X = data.drop([\"is_canceled\",\"hotel\"],axis=1)\n",
        "y = data[\"is_canceled\"]"
      ],
      "metadata": {
        "id": "gVgSd1wSX-2c"
      },
      "execution_count": null,
      "outputs": []
    },
    {
      "cell_type": "code",
      "source": [
        "X_train,X_test,y_train,y_test=train_test_split(X,y,test_size=0.3,random_state=0)"
      ],
      "metadata": {
        "id": "xBJXEfP7YIZp"
      },
      "execution_count": null,
      "outputs": []
    },
    {
      "cell_type": "code",
      "source": [
        "model=LogisticRegression(solver=\"liblinear\")"
      ],
      "metadata": {
        "id": "HNbmKYsWYMoK"
      },
      "execution_count": null,
      "outputs": []
    },
    {
      "cell_type": "code",
      "source": [
        "model=LogisticRegression()"
      ],
      "metadata": {
        "id": "FxHhs8FpYXqQ"
      },
      "execution_count": null,
      "outputs": []
    },
    {
      "cell_type": "code",
      "source": [
        "model.fit(X_train,y_train)"
      ],
      "metadata": {
        "id": "pFe_7_GvY2L8"
      },
      "execution_count": null,
      "outputs": []
    },
    {
      "cell_type": "code",
      "source": [
        "print(model.score(X_train,y_train))\n",
        "print(model.score(X_test,y_test))"
      ],
      "metadata": {
        "id": "_mFYokhiZA9u"
      },
      "execution_count": null,
      "outputs": []
    },
    {
      "cell_type": "code",
      "source": [
        "y_predict = model.predict(X_test)"
      ],
      "metadata": {
        "id": "cIKx_qA_ZQCG"
      },
      "execution_count": null,
      "outputs": []
    },
    {
      "cell_type": "code",
      "source": [
        "from sklearn import metrics\n",
        "cm=metrics.confusion_matrix(y_test, y_predict,labels=[0, 1])\n",
        "\n",
        "df_cm = pd.DataFrame(cm, index = [i for i in [\"No\",\"Yes\"]],\n",
        "                  columns = [i for i in [\"No\",\"Yes\"]])\n",
        "plt.figure(figsize = (7,5))\n",
        "sns.heatmap(df_cm, annot=True ,fmt='g')"
      ],
      "metadata": {
        "id": "GOxm47h7Zavi"
      },
      "execution_count": null,
      "outputs": []
    },
    {
      "cell_type": "code",
      "source": [
        "dtree=DecisionTreeClassifier(criterion=\"gini\")\n",
        "dtree.fit(X_train,y_train)"
      ],
      "metadata": {
        "id": "7kv4knaiZjIh"
      },
      "execution_count": null,
      "outputs": []
    },
    {
      "cell_type": "code",
      "source": [
        "dtree.score(X_train,y_train)"
      ],
      "metadata": {
        "id": "aYSCYWGLZr4J"
      },
      "execution_count": null,
      "outputs": []
    },
    {
      "cell_type": "code",
      "source": [
        "dtree.score(X_test,y_test)"
      ],
      "metadata": {
        "id": "ZE0WmMYgZt9x"
      },
      "execution_count": null,
      "outputs": []
    },
    {
      "cell_type": "code",
      "source": [
        "dTreeR = DecisionTreeClassifier(criterion = 'gini', max_depth = 3, random_state=0)\n",
        "dTreeR.fit(X_train, y_train)\n",
        "print(dTreeR.score(X_train, y_train))"
      ],
      "metadata": {
        "id": "bsm_AVqmZ4f5"
      },
      "execution_count": null,
      "outputs": []
    },
    {
      "cell_type": "code",
      "source": [
        "y_predict = dTreeR.predict(X_test)"
      ],
      "metadata": {
        "id": "eXMQiKROZ-xK"
      },
      "execution_count": null,
      "outputs": []
    },
    {
      "cell_type": "code",
      "source": [
        "print(dTreeR.score(X_test, y_test))"
      ],
      "metadata": {
        "id": "ORPgVXT8aFhe"
      },
      "execution_count": null,
      "outputs": []
    },
    {
      "cell_type": "code",
      "source": [
        "from sklearn import metrics"
      ],
      "metadata": {
        "id": "kwDc1VT_aKOo"
      },
      "execution_count": null,
      "outputs": []
    },
    {
      "cell_type": "code",
      "source": [
        "cm=metrics.confusion_matrix(y_test, y_predict,labels=[0, 1])\n",
        "\n",
        "df_cm = pd.DataFrame(cm, index = [i for i in [\"No\",\"Yes\"]],\n",
        "                  columns = [i for i in [\"No\",\"Yes\"]])\n",
        "plt.figure(figsize = (7,5))\n",
        "sns.heatmap(df_cm, annot=True ,fmt='g')"
      ],
      "metadata": {
        "id": "njjBm77zaP8i"
      },
      "execution_count": null,
      "outputs": []
    },
    {
      "cell_type": "code",
      "source": [
        "from sklearn.svm import SVC\n",
        "svm = SVC(kernel = 'poly', degree = 2)\n",
        "svm.fit(X_train, y_train)"
      ],
      "metadata": {
        "id": "dL3s0i0nadQj"
      },
      "execution_count": null,
      "outputs": []
    },
    {
      "cell_type": "code",
      "source": [
        "print(svm.score(X_train,y_train))\n",
        "print(svm.score(X_test,y_test))"
      ],
      "metadata": {
        "id": "TtC1TJ0rahl3"
      },
      "execution_count": null,
      "outputs": []
    },
    {
      "cell_type": "code",
      "source": [
        "from sklearn.ensemble import RandomForestClassifier\n",
        "rfcl = RandomForestClassifier(n_estimators = 160, random_state=0,max_features=3)\n",
        "rfcl = rfcl.fit(X_train, y_train)"
      ],
      "metadata": {
        "id": "rXAD0k1gakxx"
      },
      "execution_count": null,
      "outputs": []
    },
    {
      "cell_type": "code",
      "source": [
        "y_predict = rfcl.predict(X_test)\n",
        "print(rfcl.score(X_test, y_test))\n",
        "cm=metrics.confusion_matrix(y_test, y_predict,labels=[0, 1])\n",
        "\n",
        "df_cm = pd.DataFrame(cm, index = [i for i in [\"No\",\"Yes\"]],\n",
        "                  columns = [i for i in [\"No\",\"Yes\"]])\n",
        "plt.figure(figsize = (7,5))\n",
        "sns.heatmap(df_cm, annot=True ,fmt='g')"
      ],
      "metadata": {
        "id": "hESL2rmLavHX"
      },
      "execution_count": null,
      "outputs": []
    }
  ]
}